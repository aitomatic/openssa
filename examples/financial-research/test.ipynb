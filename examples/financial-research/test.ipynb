{
 "cells": [
  {
   "cell_type": "code",
   "execution_count": 1,
   "metadata": {},
   "outputs": [],
   "source": [
    "%load_ext autoreload\n",
    "%autoreload 2"
   ]
  },
  {
   "cell_type": "code",
   "execution_count": 2,
   "metadata": {},
   "outputs": [
    {
     "data": {
      "text/plain": [
       "True"
      ]
     },
     "execution_count": 2,
     "metadata": {},
     "output_type": "execute_result"
    }
   ],
   "source": [
    "from dotenv import load_dotenv\n",
    "load_dotenv()"
   ]
  },
  {
   "cell_type": "code",
   "execution_count": 6,
   "metadata": {},
   "outputs": [],
   "source": [
    "from openssa.contrib import RecursiveOodaSSA"
   ]
  },
  {
   "cell_type": "code",
   "execution_count": 7,
   "metadata": {},
   "outputs": [
    {
     "name": "stdout",
     "output_type": "stream",
     "text": [
      "\n",
      "assistant: Hi, what can I help you?\n"
     ]
    }
   ],
   "source": [
    "ssa = RecursiveOodaSSA(resource_scope=[])"
   ]
  },
  {
   "cell_type": "code",
   "execution_count": 8,
   "metadata": {},
   "outputs": [
    {
     "name": "stdout",
     "output_type": "stream",
     "text": [
      "\n",
      "user: Give me an overview of the company Super Micro\n"
     ]
    },
    {
     "name": "stderr",
     "output_type": "stream",
     "text": [
      "\u001b[32m2024-02-06 22:57:50.255\u001b[0m | \u001b[34m\u001b[1mDEBUG   \u001b[0m | \u001b[36mopenssa.core.ooda_rag.builtin_agents\u001b[0m:\u001b[36mexecute\u001b[0m:\u001b[36m121\u001b[0m - \u001b[34m\u001b[1mproblem statement response is: {\n",
      "    \"problem statement\": \"Can you provide an overview of the company Super Micro?\"\n",
      "}\u001b[0m\n",
      "\u001b[32m2024-02-06 22:57:50.256\u001b[0m | \u001b[34m\u001b[1mDEBUG   \u001b[0m | \u001b[36mopenssa.utils.utils\u001b[0m:\u001b[36mwrapper\u001b[0m:\u001b[36m339\u001b[0m - \u001b[34m\u001b[1mFunction GoalAgent.execute took 1.777356332999716 seconds\u001b[0m\n"
     ]
    },
    {
     "name": "stdout",
     "output_type": "stream",
     "text": [
      "Event: ooda-main-problem-statement, Data: {'message': 'Can you provide an overview of the company Super Micro?'}\n",
      "\n",
      "user: Can you provide an overview of the company Super Micro?\n",
      "\n",
      "system: You have the following functions available to call, provided here in a dict of function names and descriptions. ['research_documents: None']\n"
     ]
    },
    {
     "name": "stderr",
     "output_type": "stream",
     "text": [
      "\u001b[32m2024-02-06 22:57:52.918\u001b[0m | \u001b[1mINFO    \u001b[0m | \u001b[36mopenssa.core.ooda_rag.ooda_rag\u001b[0m:\u001b[36mrun\u001b[0m:\u001b[36m211\u001b[0m - \u001b[1m\n",
      "Subtasks: ['Provide an overview of the company Super Micro including its history, main products, and market position.']\n",
      "\u001b[0m\n"
     ]
    },
    {
     "name": "stdout",
     "output_type": "stream",
     "text": [
      "\n",
      "assistant: {'subtasks': ['Provide an overview of the company Super Micro including its history, main products, and market position.']}\n",
      "Event: ooda-subtask-begin, Data: {'uuid': 'a34b24c1-ba99-4133-b558-2266f02b3a58', 'task-name': 'Provide an overview of the company Super Micro including its history, main products, and market position.'}\n",
      "calls: [{'tool_name': 'research_documents', 'parameters': {'task': 'Provide an overview of the company Super Micro including its history, main products, and market position.'}}], tools: {'research_documents': None}\n"
     ]
    },
    {
     "ename": "AttributeError",
     "evalue": "'NoneType' object has no attribute 'execute'",
     "output_type": "error",
     "traceback": [
      "\u001b[0;31m---------------------------------------------------------------------------\u001b[0m",
      "\u001b[0;31mAttributeError\u001b[0m                            Traceback (most recent call last)",
      "Cell \u001b[0;32mIn[8], line 1\u001b[0m\n\u001b[0;32m----> 1\u001b[0m \u001b[43mssa\u001b[49m\u001b[38;5;241;43m.\u001b[39;49m\u001b[43msolve\u001b[49m\u001b[43m(\u001b[49m\u001b[38;5;124;43m'\u001b[39;49m\u001b[38;5;124;43mGive me an overview of the company Super Micro\u001b[39;49m\u001b[38;5;124;43m'\u001b[39;49m\u001b[43m)\u001b[49m\n",
      "File \u001b[0;32m~/Dropbox/AI/Aitomatic/Product/SSA (private)/openssa/contrib/recursive_ssa_prob_solver/__init__.py:13\u001b[0m, in \u001b[0;36mRecursiveOodaSSA.solve\u001b[0;34m(self, problem, depth)\u001b[0m\n\u001b[1;32m     12\u001b[0m \u001b[38;5;28;01mdef\u001b[39;00m \u001b[38;5;21msolve\u001b[39m(\u001b[38;5;28mself\u001b[39m, problem: \u001b[38;5;28mstr\u001b[39m, depth: \u001b[38;5;28mint\u001b[39m \u001b[38;5;241m=\u001b[39m \u001b[38;5;241m5\u001b[39m) \u001b[38;5;241m-\u001b[39m\u001b[38;5;241m>\u001b[39m \u001b[38;5;28mstr\u001b[39m:\n\u001b[0;32m---> 13\u001b[0m     solution: \u001b[38;5;28mstr\u001b[39m \u001b[38;5;241m=\u001b[39m \u001b[38;5;28;43mself\u001b[39;49m\u001b[38;5;241;43m.\u001b[39;49m\u001b[43mooda_ssa\u001b[49m\u001b[38;5;241;43m.\u001b[39;49m\u001b[43msolve\u001b[49m\u001b[43m(\u001b[49m\u001b[43mproblem\u001b[49m\u001b[43m)\u001b[49m\n\u001b[1;32m     14\u001b[0m     \u001b[38;5;28;01mreturn\u001b[39;00m solution\n",
      "File \u001b[0;32m~/Dropbox/AI/Aitomatic/Product/SSA (private)/openssa/core/ooda_rag/solver.py:68\u001b[0m, in \u001b[0;36mOodaSSA.solve\u001b[0;34m(self, task)\u001b[0m\n\u001b[1;32m     66\u001b[0m \u001b[38;5;28;01mif\u001b[39;00m ask_user_question:\n\u001b[1;32m     67\u001b[0m     \u001b[38;5;28;01mreturn\u001b[39;00m ask_user_question\n\u001b[0;32m---> 68\u001b[0m assistant_response \u001b[38;5;241m=\u001b[39m \u001b[38;5;28;43mself\u001b[39;49m\u001b[38;5;241;43m.\u001b[39;49m\u001b[43msolver\u001b[49m\u001b[38;5;241;43m.\u001b[39;49m\u001b[43mrun\u001b[49m\u001b[43m(\u001b[49m\n\u001b[1;32m     69\u001b[0m \u001b[43m    \u001b[49m\u001b[43mproblem_statement\u001b[49m\u001b[43m,\u001b[49m\u001b[43m \u001b[49m\u001b[43m{\u001b[49m\u001b[38;5;124;43m\"\u001b[39;49m\u001b[38;5;124;43mresearch_documents\u001b[39;49m\u001b[38;5;124;43m\"\u001b[39;49m\u001b[43m:\u001b[49m\u001b[43m \u001b[49m\u001b[38;5;28;43mself\u001b[39;49m\u001b[38;5;241;43m.\u001b[39;49m\u001b[43mresearch_documents_tool\u001b[49m\u001b[43m}\u001b[49m\n\u001b[1;32m     70\u001b[0m \u001b[43m\u001b[49m\u001b[43m)\u001b[49m\n\u001b[1;32m     71\u001b[0m \u001b[38;5;28mself\u001b[39m\u001b[38;5;241m.\u001b[39mconversation\u001b[38;5;241m.\u001b[39madd_message(\n\u001b[1;32m     72\u001b[0m     assistant_response, Persona\u001b[38;5;241m.\u001b[39mASSISTANT, verbose\u001b[38;5;241m=\u001b[39m\u001b[38;5;28;01mFalse\u001b[39;00m\n\u001b[1;32m     73\u001b[0m )\n\u001b[1;32m     74\u001b[0m \u001b[38;5;28;01mreturn\u001b[39;00m assistant_response\n",
      "File \u001b[0;32m~/Dropbox/AI/Aitomatic/Product/SSA (private)/openssa/core/ooda_rag/ooda_rag.py:217\u001b[0m, in \u001b[0;36mSolver.run\u001b[0;34m(self, problem_statement, tools)\u001b[0m\n\u001b[1;32m    213\u001b[0m \u001b[38;5;28;01mfor\u001b[39;00m subtask \u001b[38;5;129;01min\u001b[39;00m subtasks:\n\u001b[1;32m    214\u001b[0m     executor \u001b[38;5;241m=\u001b[39m Executor(\n\u001b[1;32m    215\u001b[0m         subtask, tools, \u001b[38;5;28mself\u001b[39m\u001b[38;5;241m.\u001b[39mheuristic_set\u001b[38;5;241m.\u001b[39mooda_heuristics, \u001b[38;5;28mself\u001b[39m\u001b[38;5;241m.\u001b[39mnotifier\n\u001b[1;32m    216\u001b[0m     )\n\u001b[0;32m--> 217\u001b[0m     \u001b[43mexecutor\u001b[49m\u001b[38;5;241;43m.\u001b[39;49m\u001b[43mexecute_task\u001b[49m\u001b[43m(\u001b[49m\u001b[38;5;28;43mself\u001b[39;49m\u001b[38;5;241;43m.\u001b[39;49m\u001b[43mhistory\u001b[49m\u001b[43m)\u001b[49m\n\u001b[1;32m    218\u001b[0m executor \u001b[38;5;241m=\u001b[39m Executor(\n\u001b[1;32m    219\u001b[0m     problem_statement,\n\u001b[1;32m    220\u001b[0m     tools,\n\u001b[0;32m   (...)\u001b[0m\n\u001b[1;32m    223\u001b[0m     \u001b[38;5;28;01mTrue\u001b[39;00m,\n\u001b[1;32m    224\u001b[0m )\n\u001b[1;32m    225\u001b[0m \u001b[38;5;28mself\u001b[39m\u001b[38;5;241m.\u001b[39mnotifier\u001b[38;5;241m.\u001b[39mnotify(\n\u001b[1;32m    226\u001b[0m     EventTypes\u001b[38;5;241m.\u001b[39mNOTIFICATION, {\u001b[38;5;124m\"\u001b[39m\u001b[38;5;124mmessage\u001b[39m\u001b[38;5;124m\"\u001b[39m: \u001b[38;5;124m\"\u001b[39m\u001b[38;5;124mstarting main steps\u001b[39m\u001b[38;5;124m\"\u001b[39m}\n\u001b[1;32m    227\u001b[0m )\n",
      "File \u001b[0;32m~/Dropbox/AI/Aitomatic/Product/SSA (private)/openssa/core/ooda_rag/ooda_rag.py:62\u001b[0m, in \u001b[0;36mExecutor.execute_task\u001b[0;34m(self, history)\u001b[0m\n\u001b[1;32m     60\u001b[0m ooda_plan \u001b[38;5;241m=\u001b[39m \u001b[38;5;28mself\u001b[39m\u001b[38;5;241m.\u001b[39mooda_heuristics\u001b[38;5;241m.\u001b[39mapply_heuristic(\u001b[38;5;28mself\u001b[39m\u001b[38;5;241m.\u001b[39mtask)\n\u001b[1;32m     61\u001b[0m \u001b[38;5;28mself\u001b[39m\u001b[38;5;241m.\u001b[39mcheck_resource_call(ooda_plan)\n\u001b[0;32m---> 62\u001b[0m \u001b[38;5;28;43mself\u001b[39;49m\u001b[38;5;241;43m.\u001b[39;49m\u001b[43m_execute_step\u001b[49m\u001b[43m(\u001b[49m\u001b[43mooda_plan\u001b[49m\u001b[43m[\u001b[49m\u001b[38;5;124;43m\"\u001b[39;49m\u001b[38;5;124;43mobserve\u001b[39;49m\u001b[38;5;124;43m\"\u001b[39;49m\u001b[43m]\u001b[49m\u001b[43m,\u001b[49m\u001b[43m \u001b[49m\u001b[43mhistory\u001b[49m\u001b[43m,\u001b[49m\u001b[43m \u001b[49m\u001b[38;5;124;43m\"\u001b[39;49m\u001b[38;5;124;43mobserve\u001b[39;49m\u001b[38;5;124;43m\"\u001b[39;49m\u001b[43m)\u001b[49m\n\u001b[1;32m     63\u001b[0m \u001b[38;5;28mself\u001b[39m\u001b[38;5;241m.\u001b[39m_execute_step(ooda_plan[\u001b[38;5;124m\"\u001b[39m\u001b[38;5;124morient\u001b[39m\u001b[38;5;124m\"\u001b[39m], history, \u001b[38;5;124m\"\u001b[39m\u001b[38;5;124morient\u001b[39m\u001b[38;5;124m\"\u001b[39m)\n\u001b[1;32m     64\u001b[0m \u001b[38;5;28mself\u001b[39m\u001b[38;5;241m.\u001b[39m_execute_step(ooda_plan[\u001b[38;5;124m\"\u001b[39m\u001b[38;5;124mdecide\u001b[39m\u001b[38;5;124m\"\u001b[39m], history, \u001b[38;5;124m\"\u001b[39m\u001b[38;5;124mdecide\u001b[39m\u001b[38;5;124m\"\u001b[39m)\n",
      "File \u001b[0;32m~/Dropbox/AI/Aitomatic/Product/SSA (private)/openssa/core/ooda_rag/ooda_rag.py:86\u001b[0m, in \u001b[0;36mExecutor._execute_step\u001b[0;34m(self, step, history, step_name)\u001b[0m\n\u001b[1;32m     84\u001b[0m \u001b[38;5;28;01mif\u001b[39;00m calls:\n\u001b[1;32m     85\u001b[0m     data[\u001b[38;5;124m\"\u001b[39m\u001b[38;5;124mtool_executions\u001b[39m\u001b[38;5;124m\"\u001b[39m] \u001b[38;5;241m=\u001b[39m \u001b[38;5;124m\"\u001b[39m\u001b[38;5;130;01m\\n\u001b[39;00m\u001b[38;5;124m\"\u001b[39m\u001b[38;5;241m.\u001b[39mjoin([\u001b[38;5;28mstr\u001b[39m(call) \u001b[38;5;28;01mfor\u001b[39;00m call \u001b[38;5;129;01min\u001b[39;00m calls])\n\u001b[0;32m---> 86\u001b[0m     tool_results \u001b[38;5;241m=\u001b[39m \u001b[38;5;28;43mself\u001b[39;49m\u001b[38;5;241;43m.\u001b[39;49m\u001b[43m_execute_tools\u001b[49m\u001b[43m(\u001b[49m\u001b[43mcalls\u001b[49m\u001b[43m)\u001b[49m\n\u001b[1;32m     87\u001b[0m     content_result \u001b[38;5;241m=\u001b[39m \u001b[38;5;28mself\u001b[39m\u001b[38;5;241m.\u001b[39m_get_content_result(tool_results)\n\u001b[1;32m     88\u001b[0m     data[\u001b[38;5;124m\"\u001b[39m\u001b[38;5;124mtool_results\u001b[39m\u001b[38;5;124m\"\u001b[39m] \u001b[38;5;241m=\u001b[39m tool_results\n",
      "File \u001b[0;32m~/Dropbox/AI/Aitomatic/Product/SSA (private)/openssa/core/ooda_rag/ooda_rag.py:109\u001b[0m, in \u001b[0;36mExecutor._execute_tools\u001b[0;34m(self, calls)\u001b[0m\n\u001b[1;32m    107\u001b[0m tool \u001b[38;5;241m=\u001b[39m call\u001b[38;5;241m.\u001b[39mget(\u001b[38;5;124m\"\u001b[39m\u001b[38;5;124mtool_name\u001b[39m\u001b[38;5;124m\"\u001b[39m, \u001b[38;5;124m\"\u001b[39m\u001b[38;5;124m\"\u001b[39m)\n\u001b[1;32m    108\u001b[0m \u001b[38;5;28;01mif\u001b[39;00m tool \u001b[38;5;241m==\u001b[39m \u001b[38;5;124m\"\u001b[39m\u001b[38;5;124mresearch_documents\u001b[39m\u001b[38;5;124m\"\u001b[39m:\n\u001b[0;32m--> 109\u001b[0m     tool_results[tool] \u001b[38;5;241m=\u001b[39m \u001b[38;5;28;43mself\u001b[39;49m\u001b[38;5;241;43m.\u001b[39;49m\u001b[43mtools\u001b[49m\u001b[43m[\u001b[49m\u001b[43mtool\u001b[49m\u001b[43m]\u001b[49m\u001b[38;5;241;43m.\u001b[39;49m\u001b[43mexecute\u001b[49m(\u001b[38;5;28mself\u001b[39m\u001b[38;5;241m.\u001b[39mtask)\n\u001b[1;32m    110\u001b[0m \u001b[38;5;28;01melif\u001b[39;00m tool \u001b[38;5;129;01min\u001b[39;00m \u001b[38;5;28mself\u001b[39m\u001b[38;5;241m.\u001b[39mtools:\n\u001b[1;32m    111\u001b[0m     logger\u001b[38;5;241m.\u001b[39mdebug(\u001b[38;5;124mf\u001b[39m\u001b[38;5;124m\"\u001b[39m\u001b[38;5;124mTool \u001b[39m\u001b[38;5;132;01m{\u001b[39;00mtool\u001b[38;5;132;01m}\u001b[39;00m\u001b[38;5;124m is calling with \u001b[39m\u001b[38;5;132;01m{\u001b[39;00mcall\u001b[38;5;132;01m}\u001b[39;00m\u001b[38;5;124m.\u001b[39m\u001b[38;5;124m\"\u001b[39m)\n",
      "\u001b[0;31mAttributeError\u001b[0m: 'NoneType' object has no attribute 'execute'"
     ]
    }
   ],
   "source": [
    "ssa.solve('Give me an overview of the company Super Micro')"
   ]
  },
  {
   "cell_type": "code",
   "execution_count": 5,
   "metadata": {},
   "outputs": [
    {
     "ename": "AssertionError",
     "evalue": "OPENAI_API_KEY is not set",
     "output_type": "error",
     "traceback": [
      "\u001b[0;31m---------------------------------------------------------------------------\u001b[0m",
      "\u001b[0;31mAssertionError\u001b[0m                            Traceback (most recent call last)",
      "\u001b[1;32m/Users/vinh/Library/CloudStorage/OneDrive-Personal/CODE/Unix/Product/SSA-Tests/financebench/test.ipynb Cell 5\u001b[0m line \u001b[0;36m1\n\u001b[0;32m----> <a href='vscode-notebook-cell:/Users/vinh/Library/CloudStorage/OneDrive-Personal/CODE/Unix/Product/SSA-Tests/financebench/test.ipynb#W3sZmlsZQ%3D%3D?line=0'>1</a>\u001b[0m solve(\u001b[39m'\u001b[39;49m\u001b[39mfinancebench_id_06741\u001b[39;49m\u001b[39m'\u001b[39;49m)\n",
      "File \u001b[0;32m~/Library/CloudStorage/OneDrive-Personal/CODE/Unix/Product/SSA-Tests/financebench/ssa_fb/prob_solve.py:11\u001b[0m, in \u001b[0;36msolve\u001b[0;34m(financebench_id)\u001b[0m\n\u001b[1;32m      7\u001b[0m \u001b[39mdef\u001b[39;00m \u001b[39msolve\u001b[39m(financebench_id: \u001b[39mstr\u001b[39m) \u001b[39m-\u001b[39m\u001b[39m>\u001b[39m \u001b[39mstr\u001b[39m:\n\u001b[1;32m      8\u001b[0m     ssa \u001b[39m=\u001b[39m OodaSSA(task_heuristics\u001b[39m=\u001b[39mTaskDecompositionHeuristic({}),\n\u001b[1;32m      9\u001b[0m                   highest_priority_heuristic\u001b[39m=\u001b[39m\u001b[39m'\u001b[39m\u001b[39mdo your best!\u001b[39m\u001b[39m'\u001b[39m,\n\u001b[1;32m     10\u001b[0m                   ask_user_heuristic\u001b[39m=\u001b[39m\u001b[39m'\u001b[39m\u001b[39m'\u001b[39m,\n\u001b[0;32m---> 11\u001b[0m                   llm\u001b[39m=\u001b[39mLLMConfig\u001b[39m.\u001b[39;49mget_llm_openai_4(),\n\u001b[1;32m     12\u001b[0m                   rag_llm\u001b[39m=\u001b[39mLLMConfig\u001b[39m.\u001b[39mget_llm_openai_4(),\n\u001b[1;32m     13\u001b[0m                   embed_model\u001b[39m=\u001b[39mLLMConfig\u001b[39m.\u001b[39mget_openai_embed_model(),\n\u001b[1;32m     14\u001b[0m                   model\u001b[39m=\u001b[39m\u001b[39m'\u001b[39m\u001b[39mgpt-4\u001b[39m\u001b[39m'\u001b[39m)\n\u001b[1;32m     16\u001b[0m     matching_fbid_row_num: \u001b[39mint\u001b[39m \u001b[39m=\u001b[39m (META_DF\u001b[39m.\u001b[39mfinancebench_id \u001b[39m==\u001b[39m financebench_id)\u001b[39m.\u001b[39midxmax()\n\u001b[1;32m     17\u001b[0m     \u001b[39mprint\u001b[39m(\u001b[39mf\u001b[39m\u001b[39m'\u001b[39m\u001b[39mROW \u001b[39m\u001b[39m{\u001b[39;00mmatching_fbid_row_num\u001b[39m}\u001b[39;00m\u001b[39m'\u001b[39m)\n",
      "File \u001b[0;32m~/Dropbox/AI/Aitomatic/Product/SSA (private)/openssa/utils/llm_config.py:212\u001b[0m, in \u001b[0;36mLLMConfig.get_llm_openai_4\u001b[0;34m(cls)\u001b[0m\n\u001b[1;32m    210\u001b[0m \u001b[39m@classmethod\u001b[39m\n\u001b[1;32m    211\u001b[0m \u001b[39mdef\u001b[39;00m \u001b[39mget_llm_openai_4\u001b[39m(\u001b[39mcls\u001b[39m) \u001b[39m-\u001b[39m\u001b[39m>\u001b[39m LLM:\n\u001b[0;32m--> 212\u001b[0m     \u001b[39mreturn\u001b[39;00m OpenAI(model\u001b[39m=\u001b[39m\u001b[39m\"\u001b[39m\u001b[39mgpt-4\u001b[39m\u001b[39m\"\u001b[39m, api_key\u001b[39m=\u001b[39m\u001b[39mcls\u001b[39;49m\u001b[39m.\u001b[39;49mget_openai_api_key())\n",
      "File \u001b[0;32m~/Dropbox/AI/Aitomatic/Product/SSA (private)/openssa/utils/llm_config.py:186\u001b[0m, in \u001b[0;36mLLMConfig.get_openai_api_key\u001b[0;34m(cls)\u001b[0m\n\u001b[1;32m    184\u001b[0m \u001b[39m@classmethod\u001b[39m\n\u001b[1;32m    185\u001b[0m \u001b[39mdef\u001b[39;00m \u001b[39mget_openai_api_key\u001b[39m(\u001b[39mcls\u001b[39m) \u001b[39m-\u001b[39m\u001b[39m>\u001b[39m \u001b[39mstr\u001b[39m:\n\u001b[0;32m--> 186\u001b[0m     \u001b[39massert\u001b[39;00m (api_key \u001b[39m:=\u001b[39m os\u001b[39m.\u001b[39mgetenv(\u001b[39m\"\u001b[39m\u001b[39mOPENAI_API_KEY\u001b[39m\u001b[39m\"\u001b[39m, \u001b[39m\"\u001b[39m\u001b[39m\"\u001b[39m)), \u001b[39mValueError\u001b[39;00m(\n\u001b[1;32m    187\u001b[0m         \u001b[39m\"\u001b[39m\u001b[39mOPENAI_API_KEY is not set\u001b[39m\u001b[39m\"\u001b[39m\n\u001b[1;32m    188\u001b[0m     )\n\u001b[1;32m    189\u001b[0m     \u001b[39mreturn\u001b[39;00m api_key\n",
      "\u001b[0;31mAssertionError\u001b[0m: OPENAI_API_KEY is not set"
     ]
    }
   ],
   "source": [
    "solve('financebench_id_06741')"
   ]
  }
 ],
 "metadata": {
  "kernelspec": {
   "display_name": "Python 3",
   "language": "python",
   "name": "python3"
  },
  "language_info": {
   "codemirror_mode": {
    "name": "ipython",
    "version": 3
   },
   "file_extension": ".py",
   "mimetype": "text/x-python",
   "name": "python",
   "nbconvert_exporter": "python",
   "pygments_lexer": "ipython3",
   "version": "3.11.7"
  }
 },
 "nbformat": 4,
 "nbformat_minor": 2
}
