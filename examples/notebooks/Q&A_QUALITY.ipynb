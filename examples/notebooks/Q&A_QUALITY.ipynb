{
 "cells": [
  {
   "cell_type": "code",
   "execution_count": 11,
   "metadata": {},
   "outputs": [],
   "source": [
    "import sys\n",
    "import os\n",
    "\n",
    "# Get the absolute path of the parent's parent directory\n",
    "parent_parent_dir = os.path.abspath('../../')\n",
    "\n",
    "# Add it to the Python path\n",
    "sys.path.insert(0, parent_parent_dir)"
   ]
  },
  {
   "cell_type": "code",
   "execution_count": 12,
   "metadata": {},
   "outputs": [],
   "source": [
    "from IPython.display import display\n",
    "import pandas as pd\n",
    "from openssa.core.rag_ooda.rag_ooda import RagOODA\n",
    "from openssa.core.rag_ooda.resources.standard_vi.standard_vi import load_standard_vi\n",
    "from openssa.core.rag_ooda.resources.dense_x.dense_x import load_dense_x"
   ]
  },
  {
   "cell_type": "code",
   "execution_count": 13,
   "metadata": {},
   "outputs": [],
   "source": [
    "# supporting class and function\n",
    "class RagStrategy:\n",
    "    dense = \"dense\"\n",
    "    standard_vi = \"standard_vi\"\n",
    "\n",
    "\n",
    "class RagUseCase:\n",
    "    m290 = \"m290\"\n",
    "    l316 = \"l316\"\n",
    "\n",
    "\n",
    "DATA_FOLDER_PATH = \"../../examples/data\"\n",
    "\n",
    "\n",
    "def get_dirs(use_case: str, strategy: str) -> tuple:\n",
    "    cache_dir = f\"{DATA_FOLDER_PATH}/cache/{strategy}/{use_case}/indexes\"\n",
    "    data_dir = f\"{DATA_FOLDER_PATH}/docs/{use_case}\"\n",
    "    nodes_cache_path = f\"{DATA_FOLDER_PATH}/cache/{strategy}/{use_case}/nodes_dict.json\"\n",
    "    return cache_dir, data_dir, nodes_cache_path\n",
    "\n",
    "def load_standard_vector_index():\n",
    "    use_case = RagUseCase.m290\n",
    "    strategy = RagStrategy.standard_vi\n",
    "    cache_dir, data_dir, _ = get_dirs(use_case, strategy)\n",
    "    print(f\"Loading resources... {use_case} with strategy {strategy} \")\n",
    "    return load_standard_vi(data_dir, cache_dir)\n",
    "\n",
    "\n",
    "def load_dense_x_index():\n",
    "    strategy = RagStrategy.dense\n",
    "    use_case = RagUseCase.m290\n",
    "    cache_dir, data_dir, nodes_cache_path = get_dirs(use_case, strategy)\n",
    "    print(f\"Loading resources... {use_case} with strategy {strategy} \")\n",
    "    return load_dense_x(data_dir, cache_dir, nodes_cache_path)"
   ]
  },
  {
   "cell_type": "code",
   "execution_count": 14,
   "metadata": {},
   "outputs": [
    {
     "name": "stdout",
     "output_type": "stream",
     "text": [
      "Loading resources... m290 with strategy standard_vi \n"
     ]
    },
    {
     "name": "stderr",
     "output_type": "stream",
     "text": [
      "\u001b[32m2024-01-04 15:26:28.521\u001b[0m | \u001b[34m\u001b[1mDEBUG   \u001b[0m | \u001b[36mopenssa.utils.utils\u001b[0m:\u001b[36mwrapper\u001b[0m:\u001b[36m339\u001b[0m - \u001b[34m\u001b[1mFunction load_standard_vi took 2.6162930720020086 seconds\u001b[0m\n"
     ]
    },
    {
     "name": "stdout",
     "output_type": "stream",
     "text": [
      "standard vector index loaded.\n"
     ]
    }
   ],
   "source": [
    "# load resources\n",
    "\n",
    "rag_standard_vi = load_standard_vector_index()\n",
    "print(\"standard vector index loaded.\")\n",
    "\n",
    "# rag_dense_x = load_dense_x_index()\n",
    "# print(\"dense_x indexes loaded.\")\n",
    "\n",
    "resources = [rag_standard_vi]\n",
    "rag_ooda = RagOODA(resources=resources)"
   ]
  },
  {
   "cell_type": "code",
   "execution_count": 15,
   "metadata": {},
   "outputs": [],
   "source": [
    "questions = [\n",
    "        \"do I need heat treatment for the 316L with M 290?\",\n",
    "        \"Which steel can I print?\",\n",
    "        \"can I print a part 50 cm long in the M 290?\",\n",
    "        \"Is it preferable to use nitrogen when printing with titanium?\",\n",
    "        # \"List all the materials I can print with?\",\n",
    "        # \"What are the calibration steps for a new build?\",\n",
    "        # \"what are the size limits?\",\n",
    "        # \"what are the parts size limits for the M 290?\",\n",
    "    ]"
   ]
  },
  {
   "cell_type": "code",
   "execution_count": 17,
   "metadata": {},
   "outputs": [
    {
     "name": "stdout",
     "output_type": "stream",
     "text": [
      "\n",
      "Question: do I need heat treatment for the 316L with M 290?\n",
      "\n"
     ]
    },
    {
     "name": "stderr",
     "output_type": "stream",
     "text": [
      "\u001b[32m2024-01-04 15:30:24.882\u001b[0m | \u001b[34m\u001b[1mDEBUG   \u001b[0m | \u001b[36mopenssa.utils.utils\u001b[0m:\u001b[36mwrapper\u001b[0m:\u001b[36m339\u001b[0m - \u001b[34m\u001b[1mFunction ContextValidator.execute took 1.7562697399989702 seconds\u001b[0m\n",
      "\u001b[32m2024-01-04 15:30:27.143\u001b[0m | \u001b[34m\u001b[1mDEBUG   \u001b[0m | \u001b[36mopenssa.utils.utils\u001b[0m:\u001b[36mwrapper\u001b[0m:\u001b[36m339\u001b[0m - \u001b[34m\u001b[1mFunction SynthesizingAgent.execute took 2.260532272979617 seconds\u001b[0m\n",
      "\u001b[32m2024-01-04 15:30:27.144\u001b[0m | \u001b[34m\u001b[1mDEBUG   \u001b[0m | \u001b[36mopenssa.utils.utils\u001b[0m:\u001b[36mwrapper\u001b[0m:\u001b[36m339\u001b[0m - \u001b[34m\u001b[1mFunction RagOODA.chat took 4.394045699969865 seconds\u001b[0m\n"
     ]
    },
    {
     "name": "stdout",
     "output_type": "stream",
     "text": [
      "\n",
      "Question: Which steel can I print?\n",
      "\n"
     ]
    },
    {
     "name": "stderr",
     "output_type": "stream",
     "text": [
      "\u001b[32m2024-01-04 15:30:34.652\u001b[0m | \u001b[34m\u001b[1mDEBUG   \u001b[0m | \u001b[36mopenssa.utils.utils\u001b[0m:\u001b[36mwrapper\u001b[0m:\u001b[36m339\u001b[0m - \u001b[34m\u001b[1mFunction ContextValidator.execute took 3.998179643007461 seconds\u001b[0m\n",
      "\u001b[32m2024-01-04 15:30:42.158\u001b[0m | \u001b[34m\u001b[1mDEBUG   \u001b[0m | \u001b[36mopenssa.utils.utils\u001b[0m:\u001b[36mwrapper\u001b[0m:\u001b[36m339\u001b[0m - \u001b[34m\u001b[1mFunction SynthesizingAgent.execute took 7.504504274053033 seconds\u001b[0m\n",
      "\u001b[32m2024-01-04 15:30:42.159\u001b[0m | \u001b[34m\u001b[1mDEBUG   \u001b[0m | \u001b[36mopenssa.utils.utils\u001b[0m:\u001b[36mwrapper\u001b[0m:\u001b[36m339\u001b[0m - \u001b[34m\u001b[1mFunction RagOODA.chat took 11.93142954702489 seconds\u001b[0m\n"
     ]
    },
    {
     "name": "stdout",
     "output_type": "stream",
     "text": [
      "\n",
      "Question: can I print a part 50 cm long in the M 290?\n",
      "\n"
     ]
    },
    {
     "name": "stderr",
     "output_type": "stream",
     "text": [
      "\u001b[32m2024-01-04 15:30:46.611\u001b[0m | \u001b[34m\u001b[1mDEBUG   \u001b[0m | \u001b[36mopenssa.utils.utils\u001b[0m:\u001b[36mwrapper\u001b[0m:\u001b[36m339\u001b[0m - \u001b[34m\u001b[1mFunction ContextValidator.execute took 2.2505332099972293 seconds\u001b[0m\n"
     ]
    },
    {
     "name": "stdout",
     "output_type": "stream",
     "text": [
      "\n",
      "The context is not sufficient. Starting OODA process\n",
      "\n",
      "Event: ooda-main-problem-statement, Data: {'message': 'can I print a part 50 cm long in the M 290?'}\n",
      "\n",
      "user: can I print a part 50 cm long in the M 290?\n",
      "\n",
      "system: You have the following functions available to call, provided here in a dict of function names and descriptions. ['research_documents: \\n    A tool for querying a document base for information.\\n    ']\n"
     ]
    },
    {
     "name": "stderr",
     "output_type": "stream",
     "text": [
      "\u001b[32m2024-01-04 15:30:54.166\u001b[0m | \u001b[1mINFO    \u001b[0m | \u001b[36mopenssa.core.ooda_rag.ooda_rag\u001b[0m:\u001b[36mrun\u001b[0m:\u001b[36m203\u001b[0m - \u001b[1m\n",
      "Subtasks: ['Research the specifications of the M 290 3D printer to determine its maximum build size.', 'Determine if the maximum build size can accommodate a part of 50 cm in length.']\n",
      "\u001b[0m\n"
     ]
    },
    {
     "name": "stdout",
     "output_type": "stream",
     "text": [
      "\n",
      "assistant: {'subtasks': ['Research the specifications of the M 290 3D printer to determine its maximum build size.', 'Determine if the maximum build size can accommodate a part of 50 cm in length.']}\n",
      "Event: ooda-subtask-begin, Data: {'uuid': '24fd7059-ed73-445a-9401-61a1f19c6b54', 'task-name': 'Research the specifications of the M 290 3D printer to determine its maximum build size.'}\n"
     ]
    },
    {
     "name": "stderr",
     "output_type": "stream",
     "text": [
      "\u001b[32m2024-01-04 15:31:00.508\u001b[0m | \u001b[34m\u001b[1mDEBUG   \u001b[0m | \u001b[36mopenssa.core.ooda_rag.builtin_agents\u001b[0m:\u001b[36mexecute\u001b[0m:\u001b[36m207\u001b[0m - \u001b[34m\u001b[1mOODA plan response is: {\n",
      "    \"observe\": {\n",
      "        \"thought\": \"The task is to determine if a part 50 cm long can be printed in the M 290 3D printer. The first step is to gather information about the specifications of the M 290 printer.\",\n",
      "        \"calls\": [\n",
      "            {\"tool_name\": \"research_documents\", \"parameters\": \"M 290 3D printer specifications\"}\n",
      "        ]\n",
      "    },\n",
      "    \"orient\": {\n",
      "        \"thought\": \"Upon researching the M 290 3D printer specifications, I will analyze the maximum build size to see if it can accommodate a part of 50 cm in length.\",\n",
      "        \"calls\": []\n",
      "    },\n",
      "    \"decide\": {\n",
      "        \"thought\": \"Based on the specifications, I will decide whether the M 290 3D printer can print a part 50 cm long.\",\n",
      "        \"calls\": []\n",
      "    },\n",
      "    \"act\": {\n",
      "        \"thought\": \"If the maximum build size of the M 290 printer can accommodate a part 50 cm long, the part can be printed using the M 290 3D printer.\",\n",
      "        \"calls\": []\n",
      "    }\n",
      "}\u001b[0m\n",
      "\u001b[32m2024-01-04 15:31:00.509\u001b[0m | \u001b[34m\u001b[1mDEBUG   \u001b[0m | \u001b[36mopenssa.utils.utils\u001b[0m:\u001b[36mwrapper\u001b[0m:\u001b[36m339\u001b[0m - \u001b[34m\u001b[1mFunction OODAPlanAgent.execute took 6.341402213962283 seconds\u001b[0m\n"
     ]
    },
    {
     "name": "stdout",
     "output_type": "stream",
     "text": [
      "\n",
      "assistant: Tool results for question Research the specifications of the M 290 3D printer to determine its maximum build size. is: The specifications of the M 290 3D printer do not provide information about its maximum build size.\n",
      "Event: ooda-subtask-observe, Data: {'thought': 'The task is to determine if a part 50 cm long can be printed in the M 290 3D printer. The first step is to gather information about the specifications of the M 290 printer.', 'tool_results': 'The specifications of the M 290 3D printer do not provide information about its maximum build size.', 'uuid': '24fd7059-ed73-445a-9401-61a1f19c6b54', 'tool_executions': \"{'tool_name': 'research_documents', 'parameters': 'M 290 3D printer specifications'}\"}\n",
      "Event: ooda-subtask-orient, Data: {'thought': 'Upon researching the M 290 3D printer specifications, I will analyze the maximum build size to see if it can accommodate a part of 50 cm in length.', 'tool_results': {}, 'uuid': '24fd7059-ed73-445a-9401-61a1f19c6b54'}\n",
      "Event: ooda-subtask-decide, Data: {'thought': 'Based on the specifications, I will decide whether the M 290 3D printer can print a part 50 cm long.', 'tool_results': {}, 'uuid': '24fd7059-ed73-445a-9401-61a1f19c6b54'}\n",
      "Event: ooda-subtask-act, Data: {'thought': 'If the maximum build size of the M 290 printer can accommodate a part 50 cm long, the part can be printed using the M 290 3D printer.', 'tool_results': {}, 'uuid': '24fd7059-ed73-445a-9401-61a1f19c6b54'}\n",
      "Event: ooda-subtask-begin, Data: {'uuid': '5ef0443a-ef15-4c94-8084-f53f4fe77392', 'task-name': 'Determine if the maximum build size can accommodate a part of 50 cm in length.'}\n"
     ]
    },
    {
     "name": "stderr",
     "output_type": "stream",
     "text": [
      "\u001b[32m2024-01-04 15:31:09.503\u001b[0m | \u001b[34m\u001b[1mDEBUG   \u001b[0m | \u001b[36mopenssa.core.ooda_rag.builtin_agents\u001b[0m:\u001b[36mexecute\u001b[0m:\u001b[36m207\u001b[0m - \u001b[34m\u001b[1mOODA plan response is: {\n",
      "    \"observe\": {\n",
      "        \"thought\": \"The 3D printer specifications do not explicitly state the maximum build size. Therefore, further research is necessary to obtain this information.\",\n",
      "        \"calls\": [\n",
      "            {\"tool_name\": \"research_documents\", \"parameters\": \"M 290 3D printer specifications\"}\n",
      "        ]\n",
      "    },\n",
      "    \"orient\": {\n",
      "        \"thought\": \"Once the maximum build size is determined, it will be possible to assess whether a part of 50 cm in length can be printed on the M 290 3D printer.\",\n",
      "        \"calls\": []\n",
      "    },\n",
      "    \"decide\": {\n",
      "        \"thought\": \"Based on the information obtained, the decision can be made regarding whether the part of 50 cm in length can be printed on the M 290 3D printer.\",\n",
      "        \"calls\": []\n",
      "    },\n",
      "    \"act\": {\n",
      "        \"thought\": \"Once the maximum build size is confirmed and if it can accommodate a part of 50 cm in length, it can be assessed how to proceed with printing the part on the M 290 3D printer.\",\n",
      "        \"calls\": []\n",
      "    }\n",
      "}\u001b[0m\n",
      "\u001b[32m2024-01-04 15:31:09.504\u001b[0m | \u001b[34m\u001b[1mDEBUG   \u001b[0m | \u001b[36mopenssa.utils.utils\u001b[0m:\u001b[36mwrapper\u001b[0m:\u001b[36m339\u001b[0m - \u001b[34m\u001b[1mFunction OODAPlanAgent.execute took 6.152888432960026 seconds\u001b[0m\n"
     ]
    },
    {
     "name": "stdout",
     "output_type": "stream",
     "text": [
      "\n",
      "assistant: Tool results for question Determine if the maximum build size can accommodate a part of 50 cm in length. is: The context information does not provide any specific information about the maximum build size of the machine. Therefore, it is not possible to determine if the maximum build size can accommodate a part of 50 cm in length based on the given context.\n",
      "Event: ooda-subtask-observe, Data: {'thought': 'The 3D printer specifications do not explicitly state the maximum build size. Therefore, further research is necessary to obtain this information.', 'tool_results': 'The context information does not provide any specific information about the maximum build size of the machine. Therefore, it is not possible to determine if the maximum build size can accommodate a part of 50 cm in length based on the given context.', 'uuid': '5ef0443a-ef15-4c94-8084-f53f4fe77392', 'tool_executions': \"{'tool_name': 'research_documents', 'parameters': 'M 290 3D printer specifications'}\"}\n",
      "Event: ooda-subtask-orient, Data: {'thought': 'Once the maximum build size is determined, it will be possible to assess whether a part of 50 cm in length can be printed on the M 290 3D printer.', 'tool_results': {}, 'uuid': '5ef0443a-ef15-4c94-8084-f53f4fe77392'}\n",
      "Event: ooda-subtask-decide, Data: {'thought': 'Based on the information obtained, the decision can be made regarding whether the part of 50 cm in length can be printed on the M 290 3D printer.', 'tool_results': {}, 'uuid': '5ef0443a-ef15-4c94-8084-f53f4fe77392'}\n",
      "Event: ooda-subtask-act, Data: {'thought': 'Once the maximum build size is confirmed and if it can accommodate a part of 50 cm in length, it can be assessed how to proceed with printing the part on the M 290 3D printer.', 'tool_results': {}, 'uuid': '5ef0443a-ef15-4c94-8084-f53f4fe77392'}\n",
      "Event: notification, Data: {'message': 'starting main steps'}\n"
     ]
    },
    {
     "name": "stderr",
     "output_type": "stream",
     "text": [
      "\u001b[32m2024-01-04 15:31:15.961\u001b[0m | \u001b[34m\u001b[1mDEBUG   \u001b[0m | \u001b[36mopenssa.core.ooda_rag.builtin_agents\u001b[0m:\u001b[36mexecute\u001b[0m:\u001b[36m207\u001b[0m - \u001b[34m\u001b[1mOODA plan response is: {\n",
      "    \"observe\": {\n",
      "        \"thought\": \"The specifications of the M 290 3D printer do not provide information about its maximum build size, making it difficult to ascertain whether it can accommodate a part of 50 cm in length.\",\n",
      "        \"calls\": []\n",
      "    },\n",
      "    \"orient\": {\n",
      "        \"thought\": \"Given the lack of specific information regarding the maximum build size, it is challenging to determine if the M 290 can print a part 50 cm long. It may be necessary to consult the manufacturer's documentation or technical support for clarification.\",\n",
      "        \"calls\": []\n",
      "    },\n",
      "    \"decide\": {\n",
      "        \"thought\": \"The most suitable action at this point is to reach out to the manufacturer or an official representative of the M 290 3D printer to confirm its maximum build size and ascertain whether it can accommodate a part 50 cm in length.\",\n",
      "        \"calls\": []\n",
      "    },\n",
      "    \"act\": {\n",
      "        \"thought\": \"Contact the manufacturer or official representative of the M 290 3D printer to inquire about its maximum build size and its capability to print a part 50 cm long.\",\n",
      "        \"calls\": []\n",
      "    }\n",
      "}\u001b[0m\n",
      "\u001b[32m2024-01-04 15:31:15.962\u001b[0m | \u001b[34m\u001b[1mDEBUG   \u001b[0m | \u001b[36mopenssa.utils.utils\u001b[0m:\u001b[36mwrapper\u001b[0m:\u001b[36m339\u001b[0m - \u001b[34m\u001b[1mFunction OODAPlanAgent.execute took 4.280941665056162 seconds\u001b[0m\n"
     ]
    },
    {
     "name": "stdout",
     "output_type": "stream",
     "text": [
      "\n",
      "assistant: Tool results for question can I print a part 50 cm long in the M 290? is: Yes, you can print a part 50 cm long in the M 290.\n",
      "Event: ooda-maintask-observe, Data: {'thought': 'The specifications of the M 290 3D printer do not provide information about its maximum build size, making it difficult to ascertain whether it can accommodate a part of 50 cm in length.', 'tool_results': 'Yes, you can print a part 50 cm long in the M 290.', 'uuid': '73896555-e2db-49e2-b4c5-f921929d3116', 'tool_executions': \"{'tool_name': 'research_documents', 'parameters': {'task': 'can I print a part 50 cm long in the M 290?'}}\"}\n",
      "Event: ooda-maintask-orient, Data: {'thought': \"Given the lack of specific information regarding the maximum build size, it is challenging to determine if the M 290 can print a part 50 cm long. It may be necessary to consult the manufacturer's documentation or technical support for clarification.\", 'tool_results': {}, 'uuid': '73896555-e2db-49e2-b4c5-f921929d3116'}\n",
      "Event: ooda-maintask-decide, Data: {'thought': 'The most suitable action at this point is to reach out to the manufacturer or an official representative of the M 290 3D printer to confirm its maximum build size and ascertain whether it can accommodate a part 50 cm in length.', 'tool_results': {}, 'uuid': '73896555-e2db-49e2-b4c5-f921929d3116'}\n",
      "Event: ooda-maintask-act, Data: {'thought': 'Contact the manufacturer or official representative of the M 290 3D printer to inquire about its maximum build size and its capability to print a part 50 cm long.', 'tool_results': {}, 'uuid': '73896555-e2db-49e2-b4c5-f921929d3116'}\n"
     ]
    },
    {
     "name": "stderr",
     "output_type": "stream",
     "text": [
      "\u001b[32m2024-01-04 15:31:58.357\u001b[0m | \u001b[34m\u001b[1mDEBUG   \u001b[0m | \u001b[36mopenssa.utils.utils\u001b[0m:\u001b[36mwrapper\u001b[0m:\u001b[36m339\u001b[0m - \u001b[34m\u001b[1mFunction Solver.synthesize_result took 41.04632716497872 seconds\u001b[0m\n",
      "\u001b[32m2024-01-04 15:31:58.359\u001b[0m | \u001b[34m\u001b[1mDEBUG   \u001b[0m | \u001b[36mopenssa.utils.utils\u001b[0m:\u001b[36mwrapper\u001b[0m:\u001b[36m339\u001b[0m - \u001b[34m\u001b[1mFunction RagOODA.chat took 74.53510849596933 seconds\u001b[0m\n"
     ]
    },
    {
     "name": "stdout",
     "output_type": "stream",
     "text": [
      "Event: task_result, Data: {'response': \"The conversation regarding the printing of a 50 cm long part using an EOS M 290 3D printer includes conflicting information. Initially, there was ambiguity since no specific details about the maximum build size of the EOS M 290 were provided. When the user asked whether a part 50 cm long could be printed, the response was that it is possible to print a part 50 cm long in the M 290. However, no specific dimensions were provided to support this claim.\\n\\nIn the discussion, there is a mention of researching the build size of the M 290 printer, which indicates that the appropriate next step would involve finding out the printer's build volume capabilities to accurately assess if a 50 cm long part is printable. However, the actual build volume specifications of the EOS M 290 are not detailed within the conversation.\\n\\nWithout the explicit dimensions of the printer's build volume, there are two contrasting statuses: one suggesting that printing a 50 cm part is possible, and the other, implied by the absence of hard data, suggesting that no conclusion can be drawn.\\n\\nGiven the conflicting information and the lack of detailed specifications, it is not possible to accurately determine if the EOS M 290 can print a part 50 cm long based solely on the information provided in the conversation. To resolve this, the exact build dimensions of the M 290 need to be consulted from an accurate source.\"}\n",
      "\n",
      "Question: Is it preferable to use nitrogen when printing with titanium?\n",
      "\n"
     ]
    },
    {
     "name": "stderr",
     "output_type": "stream",
     "text": [
      "\u001b[32m2024-01-04 15:32:02.878\u001b[0m | \u001b[34m\u001b[1mDEBUG   \u001b[0m | \u001b[36mopenssa.utils.utils\u001b[0m:\u001b[36mwrapper\u001b[0m:\u001b[36m339\u001b[0m - \u001b[34m\u001b[1mFunction ContextValidator.execute took 1.8199073860305361 seconds\u001b[0m\n",
      "\u001b[32m2024-01-04 15:32:10.866\u001b[0m | \u001b[34m\u001b[1mDEBUG   \u001b[0m | \u001b[36mopenssa.utils.utils\u001b[0m:\u001b[36mwrapper\u001b[0m:\u001b[36m339\u001b[0m - \u001b[34m\u001b[1mFunction SynthesizingAgent.execute took 7.987462755991146 seconds\u001b[0m\n",
      "\u001b[32m2024-01-04 15:32:10.868\u001b[0m | \u001b[34m\u001b[1mDEBUG   \u001b[0m | \u001b[36mopenssa.utils.utils\u001b[0m:\u001b[36mwrapper\u001b[0m:\u001b[36m339\u001b[0m - \u001b[34m\u001b[1mFunction RagOODA.chat took 10.239760412019677 seconds\u001b[0m\n"
     ]
    },
    {
     "data": {
      "text/html": [
       "<div>\n",
       "<style scoped>\n",
       "    .dataframe tbody tr th:only-of-type {\n",
       "        vertical-align: middle;\n",
       "    }\n",
       "\n",
       "    .dataframe tbody tr th {\n",
       "        vertical-align: top;\n",
       "    }\n",
       "\n",
       "    .dataframe thead th {\n",
       "        text-align: right;\n",
       "    }\n",
       "</style>\n",
       "<table border=\"1\" class=\"dataframe\">\n",
       "  <thead>\n",
       "    <tr style=\"text-align: right;\">\n",
       "      <th></th>\n",
       "      <th>question</th>\n",
       "      <th>standard vector index</th>\n",
       "      <th>rag ooda</th>\n",
       "    </tr>\n",
       "  </thead>\n",
       "  <tbody>\n",
       "    <tr>\n",
       "      <th>0</th>\n",
       "      <td>do I need heat treatment for the 316L with M 290?</td>\n",
       "      <td>Yes, heat treatment is required for the 316L w...</td>\n",
       "      <td>Yes, heat treatment is required for 316L when ...</td>\n",
       "    </tr>\n",
       "    <tr>\n",
       "      <th>1</th>\n",
       "      <td>Which steel can I print?</td>\n",
       "      <td>You can print EOS CaseHardeningSteel 20MnCrZr9...</td>\n",
       "      <td>You can print with the following steels using ...</td>\n",
       "    </tr>\n",
       "    <tr>\n",
       "      <th>2</th>\n",
       "      <td>can I print a part 50 cm long in the M 290?</td>\n",
       "      <td>Yes, you can print a part 50 cm long in the M ...</td>\n",
       "      <td>The conversation regarding the printing of a 5...</td>\n",
       "    </tr>\n",
       "    <tr>\n",
       "      <th>3</th>\n",
       "      <td>Is it preferable to use nitrogen when printing...</td>\n",
       "      <td>Yes, it is preferable to use nitrogen when pri...</td>\n",
       "      <td>No, it is not preferable to use nitrogen when ...</td>\n",
       "    </tr>\n",
       "  </tbody>\n",
       "</table>\n",
       "</div>"
      ],
      "text/plain": [
       "                                            question  \\\n",
       "0  do I need heat treatment for the 316L with M 290?   \n",
       "1                           Which steel can I print?   \n",
       "2        can I print a part 50 cm long in the M 290?   \n",
       "3  Is it preferable to use nitrogen when printing...   \n",
       "\n",
       "                               standard vector index  \\\n",
       "0  Yes, heat treatment is required for the 316L w...   \n",
       "1  You can print EOS CaseHardeningSteel 20MnCrZr9...   \n",
       "2  Yes, you can print a part 50 cm long in the M ...   \n",
       "3  Yes, it is preferable to use nitrogen when pri...   \n",
       "\n",
       "                                            rag ooda  \n",
       "0  Yes, heat treatment is required for 316L when ...  \n",
       "1  You can print with the following steels using ...  \n",
       "2  The conversation regarding the printing of a 5...  \n",
       "3  No, it is not preferable to use nitrogen when ...  "
      ]
     },
     "metadata": {},
     "output_type": "display_data"
    }
   ],
   "source": [
    "# generate results\n",
    "\n",
    "svi_answers = []\n",
    "ro_answers = []\n",
    "# dense_x_answers = []\n",
    "\n",
    "for q in questions:\n",
    "    print(f\"\\nQuestion: {q}\\n\")\n",
    "    stand_vi_answer = rag_standard_vi.query_engine.query(q).response\n",
    "    svi_answers.append(stand_vi_answer)\n",
    "    # dense_x_answer = rag_dense_x.query_engine.query(q)\n",
    "    # dense_x_answers.append(dense_x_answer)\n",
    "    rag_ooda_answer = rag_ooda.chat(q)\n",
    "    ro_answers.append(rag_ooda_answer)\n",
    "\n",
    "df = pd.DataFrame(  # noqa: PD901\n",
    "    {\n",
    "        \"question\": questions,\n",
    "        \"standard vector index\": svi_answers,\n",
    "        # \"dense x\": dense_x_answers,\n",
    "        \"rag ooda\": ro_answers,\n",
    "    }\n",
    ")\n",
    "df.to_csv(f\"{DATA_FOLDER_PATH}/notebook_qa_comparion.csv\", index=False)\n",
    "\n",
    "display(df)"
   ]
  }
 ],
 "metadata": {
  "kernelspec": {
   "display_name": "openssa-bldQxQzu-py3.10",
   "language": "python",
   "name": "python3"
  },
  "language_info": {
   "codemirror_mode": {
    "name": "ipython",
    "version": 3
   },
   "file_extension": ".py",
   "mimetype": "text/x-python",
   "name": "python",
   "nbconvert_exporter": "python",
   "pygments_lexer": "ipython3",
   "version": "3.10.4"
  }
 },
 "nbformat": 4,
 "nbformat_minor": 2
}
