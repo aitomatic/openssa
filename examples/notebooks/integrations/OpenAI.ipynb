{
 "cells": [
  {
   "cell_type": "markdown",
   "metadata": {},
   "source": [
    "# OpenAI LLM Integration\n",
    "\n",
    "This notebook demonstrates how to use the OpenAI LLM integration."
   ]
  },
  {
   "cell_type": "code",
   "execution_count": 1,
   "metadata": {},
   "outputs": [],
   "source": [
    "# Import OpenSSA package \"live\" from the source code\n",
    "import sys\n",
    "from pathlib import Path\n",
    "sys.path.insert(0, str(Path('../../').resolve()))\n",
    "\n",
    "# Configure logging for some informative output\n",
    "from openssa import Logs, logger, mlogger\n",
    "logger.setLevel(logger.WARNING)\n",
    "mlogger.setLevel(mlogger.WARNING)"
   ]
  },
  {
   "cell_type": "code",
   "execution_count": 2,
   "metadata": {},
   "outputs": [
    {
     "ename": "ValueError",
     "evalue": "model or engine must be provided (e.g., 'gpt-3.5-turbo'))",
     "output_type": "error",
     "traceback": [
      "\u001b[0;31m---------------------------------------------------------------------------\u001b[0m",
      "\u001b[0;31mValueError\u001b[0m                                Traceback (most recent call last)",
      "Cell \u001b[0;32mIn[2], line 2\u001b[0m\n\u001b[1;32m      1\u001b[0m \u001b[39mfrom\u001b[39;00m \u001b[39mopenssm\u001b[39;00m \u001b[39mimport\u001b[39;00m AzureGPT3ChatCompletionSSM\n\u001b[0;32m----> 2\u001b[0m ssm \u001b[39m=\u001b[39m AzureGPT3ChatCompletionSSM()\n",
      "File \u001b[0;32m~/src/aitomatic/ssm/openssm/integrations/azure/ssm.py:70\u001b[0m, in \u001b[0;36mGPT3ChatCompletionSSM.__init__\u001b[0;34m(self, adapter, backends)\u001b[0m\n\u001b[1;32m     67\u001b[0m \u001b[39mdef\u001b[39;00m \u001b[39m__init__\u001b[39m(\u001b[39mself\u001b[39m,\n\u001b[1;32m     68\u001b[0m              adapter: AbstractAdapter \u001b[39m=\u001b[39m \u001b[39mNone\u001b[39;00m,\n\u001b[1;32m     69\u001b[0m              backends: \u001b[39mlist\u001b[39m[AbstractBackend] \u001b[39m=\u001b[39m \u001b[39mNone\u001b[39;00m):\n\u001b[0;32m---> 70\u001b[0m     \u001b[39msuper\u001b[39m()\u001b[39m.\u001b[39m\u001b[39m__init__\u001b[39m(GPT3ChatCompletionSLM(), adapter, backends)\n",
      "File \u001b[0;32m~/src/aitomatic/ssm/openssm/integrations/azure/ssm.py:63\u001b[0m, in \u001b[0;36mGPT3ChatCompletionSLM.__init__\u001b[0;34m(self, api_context, adapter)\u001b[0m\n\u001b[1;32m     59\u001b[0m     api_context \u001b[39m=\u001b[39m APIContext\u001b[39m.\u001b[39mgpt3_defaults()\n\u001b[1;32m     61\u001b[0m api_context\u001b[39m.\u001b[39mis_chat_completion \u001b[39m=\u001b[39m \u001b[39mTrue\u001b[39;00m\n\u001b[0;32m---> 63\u001b[0m \u001b[39msuper\u001b[39;49m()\u001b[39m.\u001b[39;49m\u001b[39m__init__\u001b[39;49m(api_context, adapter\u001b[39m=\u001b[39;49madapter)\n",
      "File \u001b[0;32m~/src/aitomatic/ssm/openssm/integrations/openai/ssm.py:65\u001b[0m, in \u001b[0;36m_AbstractSLM.__init__\u001b[0;34m(self, api_context, adapter)\u001b[0m\n\u001b[1;32m     62\u001b[0m     \u001b[39mraise\u001b[39;00m \u001b[39mValueError\u001b[39;00m(\u001b[39m\"\u001b[39m\u001b[39mapi_key must be provided, e.g., via Config.OPENAI_API_KEY or \u001b[39m\u001b[39m'\u001b[39m\u001b[39msk-xxxxx\u001b[39m\u001b[39m'\u001b[39m\u001b[39m\"\u001b[39m)\n\u001b[1;32m     64\u001b[0m \u001b[39mif\u001b[39;00m api_context\u001b[39m.\u001b[39mmodel \u001b[39mis\u001b[39;00m \u001b[39mNone\u001b[39;00m \u001b[39mand\u001b[39;00m api_context\u001b[39m.\u001b[39mengine \u001b[39mis\u001b[39;00m \u001b[39mNone\u001b[39;00m:\n\u001b[0;32m---> 65\u001b[0m     \u001b[39mraise\u001b[39;00m \u001b[39mValueError\u001b[39;00m(\u001b[39m\"\u001b[39m\u001b[39mmodel or engine must be provided (e.g., \u001b[39m\u001b[39m'\u001b[39m\u001b[39mgpt-3.5-turbo\u001b[39m\u001b[39m'\u001b[39m\u001b[39m))\u001b[39m\u001b[39m\"\u001b[39m)\n\u001b[1;32m     67\u001b[0m \u001b[39msuper\u001b[39m()\u001b[39m.\u001b[39m\u001b[39m__init__\u001b[39m(adapter)\n\u001b[1;32m     69\u001b[0m \u001b[39mself\u001b[39m\u001b[39m.\u001b[39m_api_context \u001b[39m=\u001b[39m api_context\n",
      "\u001b[0;31mValueError\u001b[0m: model or engine must be provided (e.g., 'gpt-3.5-turbo'))"
     ]
    }
   ],
   "source": [
    "from openssa import AzureGPT3ChatCompletionSSM\n",
    "ssm = AzureGPT3ChatCompletionSSM()"
   ]
  },
  {
   "cell_type": "code",
   "execution_count": null,
   "metadata": {},
   "outputs": [],
   "source": []
  },
  {
   "cell_type": "code",
   "execution_count": null,
   "metadata": {},
   "outputs": [],
   "source": []
  },
  {
   "cell_type": "code",
   "execution_count": 3,
   "metadata": {},
   "outputs": [
    {
     "data": {
      "text/plain": [
       "{'role': 'assistant',\n",
       " 'content': 'I\\'m sorry, but I am an AI language model and I do not have access to personal information about individuals unless it has been shared with me during our conversation. Therefore, I do not know your name or what you are referring to when you ask \"What am I?\" Could you please provide more context or clarify your question?'}"
      ]
     },
     "execution_count": 3,
     "metadata": {},
     "output_type": "execute_result"
    }
   ],
   "source": [
    "ssm.conversation_tracking = False\n",
    "ssm.discuss(\"Remember, my name is CTN. I am a chatbot.\")\n",
    "ssm.discuss(\"What is my name? What am I?\")\n"
   ]
  },
  {
   "cell_type": "code",
   "execution_count": null,
   "metadata": {},
   "outputs": [],
   "source": [
    "ssm.discuss(\"Remember, my name is CTN. I am a chatbot.\")"
   ]
  },
  {
   "cell_type": "code",
   "execution_count": null,
   "metadata": {},
   "outputs": [],
   "source": [
    "ssm.discuss(\"What have we talked about so far?\")"
   ]
  },
  {
   "cell_type": "code",
   "execution_count": null,
   "metadata": {},
   "outputs": [],
   "source": [
    "ssm.discuss(\"What is my name?\")"
   ]
  },
  {
   "cell_type": "code",
   "execution_count": null,
   "metadata": {},
   "outputs": [],
   "source": [
    "ssm.discuss(\"Remind me everything I have said to you.\")"
   ]
  },
  {
   "cell_type": "code",
   "execution_count": null,
   "metadata": {},
   "outputs": [],
   "source": [
    "ssm.discuss(\"Remind me of my last 3 or 4 messages to you\")"
   ]
  },
  {
   "cell_type": "code",
   "execution_count": null,
   "metadata": {},
   "outputs": [],
   "source": [
    "ssm.discuss(\"Tell me everything I have said in this conversation.\")"
   ]
  },
  {
   "cell_type": "code",
   "execution_count": null,
   "metadata": {},
   "outputs": [],
   "source": [
    "ssm.discuss(\"What is my name? What am I?\")"
   ]
  },
  {
   "cell_type": "code",
   "execution_count": null,
   "metadata": {},
   "outputs": [],
   "source": []
  },
  {
   "cell_type": "code",
   "execution_count": null,
   "metadata": {},
   "outputs": [],
   "source": [
    "ssm.discuss(\"What is the sum of 2 and 2?\")"
   ]
  },
  {
   "cell_type": "code",
   "execution_count": null,
   "metadata": {},
   "outputs": [],
   "source": []
  }
 ],
 "metadata": {
  "kernelspec": {
   "display_name": "Python 3",
   "language": "python",
   "name": "python3"
  },
  "language_info": {
   "codemirror_mode": {
    "name": "ipython",
    "version": 3
   },
   "file_extension": ".py",
   "mimetype": "text/x-python",
   "name": "python",
   "nbconvert_exporter": "python",
   "pygments_lexer": "ipython3",
   "version": "3.10.12"
  },
  "orig_nbformat": 4
 },
 "nbformat": 4,
 "nbformat_minor": 2
}
