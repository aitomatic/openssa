{
 "cells": [
  {
   "cell_type": "code",
   "execution_count": null,
   "metadata": {},
   "outputs": [],
   "source": [
    "import sys\n",
    "import os\n",
    "\n",
    "# Get the absolute path of the parent's parent directory\n",
    "parent_parent_dir = os.path.abspath('../../')\n",
    "\n",
    "# Add it to the Python path\n",
    "sys.path.insert(0, parent_parent_dir)"
   ]
  },
  {
   "cell_type": "code",
   "execution_count": null,
   "metadata": {},
   "outputs": [],
   "source": [
    "from openssa.core.rag_ooda.rag_ooda import RagOODA\n",
    "from openssa.core.rag_ooda.resources.dense_x.dense_x import load_dense_x\n"
   ]
  },
  {
   "cell_type": "code",
   "execution_count": null,
   "metadata": {},
   "outputs": [],
   "source": [
    "use_case = \"eos-m290\"\n",
    "cache_dir = f\"../../tmp/dense/{use_case}/indexes\"\n",
    "data_dir = f\"../../tmp/dense/{use_case}/documents\"\n",
    "nodes_cache_path = f\"../../tmp/dense/{use_case}/nodes_dict.json\"\n",
    "print(\"Loading resources...\")\n",
    "retriever, _ = load_dense_x(data_dir, cache_dir, nodes_cache_path)\n",
    "print(\"Resources loaded.\")"
   ]
  },
  {
   "cell_type": "code",
   "execution_count": null,
   "metadata": {},
   "outputs": [],
   "source": [
    "resources = [retriever]\n",
    "conversation = [{\"role\": \"assistant\", \"content\": \"Hello, how can I help you?\"}]\n",
    "rag_ooda = RagOODA(resources=resources, conversation=conversation)\n",
    "q = input(\"\\nuser: \")\n",
    "while q.lower() != \"q\":\n",
    "    answer = rag_ooda.chat(q)\n",
    "    print(f\"assistant: {answer}\")\n",
    "    q = input(\"\\nuser: \")"
   ]
  },
  {
   "cell_type": "code",
   "execution_count": null,
   "metadata": {},
   "outputs": [],
   "source": []
  }
 ],
 "metadata": {
  "kernelspec": {
   "display_name": "sang",
   "language": "python",
   "name": "sang"
  },
  "language_info": {
   "codemirror_mode": {
    "name": "ipython",
    "version": 3
   },
   "file_extension": ".py",
   "mimetype": "text/x-python",
   "name": "python",
   "nbconvert_exporter": "python",
   "pygments_lexer": "ipython3",
   "version": "3.10.4"
  }
 },
 "nbformat": 4,
 "nbformat_minor": 2
}
