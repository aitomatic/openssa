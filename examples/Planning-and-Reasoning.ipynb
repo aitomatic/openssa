{
 "cells": [
  {
   "cell_type": "markdown",
   "metadata": {},
   "source": [
    "# Setups"
   ]
  },
  {
   "cell_type": "code",
   "execution_count": null,
   "metadata": {},
   "outputs": [],
   "source": [
    "%load_ext autoreload\n",
    "%autoreload 2"
   ]
  },
  {
   "cell_type": "code",
   "execution_count": null,
   "metadata": {},
   "outputs": [],
   "source": [
    "from pprint import pprint\n",
    "from IPython.display import display, Markdown, Pretty"
   ]
  },
  {
   "cell_type": "code",
   "execution_count": null,
   "metadata": {},
   "outputs": [],
   "source": [
    "from dotenv import load_dotenv\n",
    "load_dotenv()"
   ]
  },
  {
   "cell_type": "code",
   "execution_count": null,
   "metadata": {},
   "outputs": [],
   "source": [
    "import nest_asyncio\n",
    "nest_asyncio.apply()"
   ]
  },
  {
   "cell_type": "markdown",
   "metadata": {},
   "source": [
    "# Imports"
   ]
  },
  {
   "cell_type": "code",
   "execution_count": null,
   "metadata": {},
   "outputs": [],
   "source": [
    "from pathlib import Path\n",
    "\n",
    "from openssa import (Agent,\n",
    "                     HTP, AutoHTPlanner,\n",
    "                     OodaReasoner,\n",
    "                     FileResource)"
   ]
  },
  {
   "cell_type": "markdown",
   "metadata": {},
   "source": [
    "# Problems & Resources"
   ]
  },
  {
   "cell_type": "code",
   "execution_count": null,
   "metadata": {},
   "outputs": [],
   "source": [
    "PROBLEM = 'Does AMD have a healthy liquidity profile based on FY22 Quick Ratio?'"
   ]
  },
  {
   "cell_type": "code",
   "execution_count": null,
   "metadata": {},
   "outputs": [],
   "source": [
    "RESOURCE_PATH = Path() / 'FinanceBench' / '.data' / 'docs' / 'AMD_2022_10K'\n",
    "assert RESOURCE_PATH.is_dir()\n",
    "\n",
    "resource = FileResource(RESOURCE_PATH)\n",
    "display(Markdown(resource.overview))"
   ]
  },
  {
   "cell_type": "markdown",
   "metadata": {},
   "source": [
    "# Agent with Planning & Reasoning"
   ]
  },
  {
   "cell_type": "code",
   "execution_count": null,
   "metadata": {},
   "outputs": [],
   "source": [
    "agent = Agent(planner=AutoHTPlanner(max_depth=3, max_subtasks_per_decomp=9),\n",
    "              reasoner=OodaReasoner(),\n",
    "              resources={resource})\n",
    "pprint(agent)"
   ]
  },
  {
   "cell_type": "markdown",
   "metadata": {},
   "source": [
    "## Problem-Solving with Automated Planner"
   ]
  },
  {
   "cell_type": "code",
   "execution_count": null,
   "metadata": {},
   "outputs": [],
   "source": [
    "auto_plan = agent.planner.plan(PROBLEM)\n",
    "pprint(auto_plan)"
   ]
  },
  {
   "cell_type": "code",
   "execution_count": null,
   "metadata": {},
   "outputs": [],
   "source": [
    "solution_1 = agent.solve(PROBLEM)\n",
    "display(Markdown(solution_1))"
   ]
  },
  {
   "cell_type": "markdown",
   "metadata": {},
   "source": [
    "## Problem-Solving with Expert-Specified Plan"
   ]
  },
  {
   "cell_type": "code",
   "execution_count": null,
   "metadata": {},
   "outputs": [],
   "source": [
    "expert_plan = HTP.from_dict(\n",
    "    {\n",
    "        'task': PROBLEM,\n",
    "        'sub-plans': [\n",
    "            {\n",
    "                'task': 'retrieve data points needed for Quick Ratio',\n",
    "                'sub-plans': [\n",
    "                    {\n",
    "                        'task': 'retrieve Cash & Cash Equivalents'\n",
    "                    },\n",
    "                    {\n",
    "                        'task': 'retrieve Accounts Receivable'\n",
    "                    },\n",
    "                    {\n",
    "                        'task': 'retrieve Short-Term Liabilities'\n",
    "                    },\n",
    "                    {\n",
    "                        'task': 'retrieve Accounts Payable'\n",
    "                    },\n",
    "                ]\n",
    "            },\n",
    "            {\n",
    "                'task': 'calculate Quick Ratio'\n",
    "            },\n",
    "            {\n",
    "                'task': 'see whether Quick Ratio is healthy, i.e. greater than 1'\n",
    "            },\n",
    "        ]\n",
    "    }\n",
    ")\n",
    "pprint(expert_plan)"
   ]
  },
  {
   "cell_type": "code",
   "execution_count": null,
   "metadata": {},
   "outputs": [],
   "source": [
    "solution_2 = agent.solve(PROBLEM, plan=expert_plan)\n",
    "display(Markdown(solution_2))"
   ]
  }
 ],
 "metadata": {
  "kernelspec": {
   "display_name": ".venv",
   "language": "python",
   "name": "python3"
  },
  "language_info": {
   "codemirror_mode": {
    "name": "ipython",
    "version": 3
   },
   "file_extension": ".py",
   "mimetype": "text/x-python",
   "name": "python",
   "nbconvert_exporter": "python",
   "pygments_lexer": "ipython3",
   "version": "3.11.8"
  }
 },
 "nbformat": 4,
 "nbformat_minor": 2
}
