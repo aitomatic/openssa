{
 "cells": [
  {
   "cell_type": "code",
   "execution_count": 1,
   "id": "initial_id",
   "metadata": {
    "collapsed": true,
    "ExecuteTime": {
     "end_time": "2024-02-07T04:27:00.297934Z",
     "start_time": "2024-02-07T04:26:55.146785Z"
    }
   },
   "outputs": [],
   "source": [
    "from dotenv import load_dotenv\n",
    "from time import time\n",
    "import os\n",
    "load_dotenv() # it must be called before importing the project modules\n",
    "from openssa.core.ooda_rag.ooda_rag import Solver\n",
    "from openssa.core.ooda_rag.heuristic import (\n",
    "    DefaultOODAHeuristic,\n",
    "    TaskDecompositionHeuristic,\n",
    ")\n",
    "from openssa.core.ooda_rag.notifier import SimpleNotifier\n",
    "from openssa.core.ooda_rag.tools import ResearchDocumentsTool\n",
    "import openai\n",
    "openai.api_key = os.getenv(\"OPENAI_API_KEY\")"
   ]
  },
  {
   "cell_type": "code",
   "outputs": [],
   "source": [
    "import nest_asyncio\n",
    "nest_asyncio.apply()"
   ],
   "metadata": {
    "collapsed": false,
    "ExecuteTime": {
     "end_time": "2024-02-07T04:27:00.311954Z",
     "start_time": "2024-02-07T04:27:00.302569Z"
    }
   },
   "id": "9e7c2b65d423b17e",
   "execution_count": 2
  },
  {
   "cell_type": "code",
   "outputs": [],
   "source": [
    "PATH = '/Users/chanhle/aitomatic_workspace/mvp_bench/mvp/aiMO/api/tmp/420'"
   ],
   "metadata": {
    "collapsed": false,
    "ExecuteTime": {
     "end_time": "2024-02-07T04:27:00.324410Z",
     "start_time": "2024-02-07T04:27:00.309026Z"
    }
   },
   "id": "d6f309a2ea947c58",
   "execution_count": 3
  },
  {
   "cell_type": "code",
   "outputs": [],
   "source": [
    "from openssa.core.ooda_rag.custom import CustomSSM\n",
    "\n",
    "\n",
    "ssm = CustomSSM()"
   ],
   "metadata": {
    "collapsed": false,
    "ExecuteTime": {
     "end_time": "2024-02-07T04:27:02.641708Z",
     "start_time": "2024-02-07T04:27:00.320574Z"
    }
   },
   "id": "52c355327d62bf77",
   "execution_count": 4
  },
  {
   "cell_type": "code",
   "outputs": [],
   "source": [
    "ssm.read_directory(PATH)"
   ],
   "metadata": {
    "collapsed": false,
    "ExecuteTime": {
     "end_time": "2024-02-07T04:27:05.669311Z",
     "start_time": "2024-02-07T04:27:02.643267Z"
    }
   },
   "id": "4d35944a4d516f7a",
   "execution_count": 5
  },
  {
   "cell_type": "code",
   "outputs": [
    {
     "name": "stdout",
     "output_type": "stream",
     "text": [
      "Generated queries:\n",
      "1. Top performing artificial intelligence stocks in 2021\n",
      "2. Best AI companies to invest in right now\n",
      "3. AI stocks with high growth potential\n"
     ]
    },
    {
     "name": "stderr",
     "output_type": "stream",
     "text": [
      "\u001B[32m2024-02-07 11:27:13.138\u001B[0m | \u001B[34m\u001B[1mDEBUG   \u001B[0m | \u001B[36mopenssa.core.ooda_rag.custom\u001B[0m:\u001B[36mquery\u001B[0m:\u001B[36m89\u001B[0m - \u001B[34m\u001B[1mresponse: As an AI language model, I am not able to provide current stock recommendations or financial advice. However, investors interested in AI stocks typically look for companies that are heavily invested in AI technology and have a strong track record of innovation and applying AI to their products and services. It's important to conduct thorough research and consider consulting with a financial advisor before making any investment decisions.\u001B[0m\n"
     ]
    },
    {
     "data": {
      "text/plain": "{'content': \"As an AI language model, I am not able to provide current stock recommendations or financial advice. However, investors interested in AI stocks typically look for companies that are heavily invested in AI technology and have a strong track record of innovation and applying AI to their products and services. It's important to conduct thorough research and consider consulting with a financial advisor before making any investment decisions.\",\n 'citations': [{'type': 'pdf', 'pages': ['7'], 'source': 'goog-10-k-2023.pdf'},\n  {'type': 'pdf', 'pages': ['9'], 'source': 'goog-10-k-2023.pdf'},\n  {'type': 'pdf', 'pages': ['6'], 'source': 'goog-10-k-2023.pdf'},\n  {'type': 'pdf', 'pages': ['8'], 'source': 'goog-10-k-2023.pdf'},\n  {'type': 'pdf', 'pages': ['17'], 'source': 'goog-10-k-2023.pdf'},\n  {'type': 'pdf', 'pages': ['12'], 'source': 'goog-10-k-2023.pdf'},\n  {'type': 'pdf', 'pages': ['13'], 'source': 'goog-10-k-2023.pdf'},\n  {'type': 'pdf', 'pages': ['5'], 'source': 'goog-10-k-2023.pdf'}]}"
     },
     "execution_count": 6,
     "metadata": {},
     "output_type": "execute_result"
    }
   ],
   "source": [
    "ssm.discuss(\"List 3 Hot Artificial Intelligence (AI) Stocks to Buy\")"
   ],
   "metadata": {
    "collapsed": false,
    "ExecuteTime": {
     "end_time": "2024-02-07T04:27:13.157448Z",
     "start_time": "2024-02-07T04:27:05.672052Z"
    }
   },
   "id": "633ae02ee7afe25a",
   "execution_count": 6
  },
  {
   "cell_type": "code",
   "outputs": [],
   "source": [
    "import re\n",
    "\n",
    "def extract_urls(message) -> list[str]:\n",
    "    url_pattern = re.compile(\n",
    "        r'http[s]?://(?:[a-zA-Z]|[0-9]|[$-_@.&+]|[!*\\\\(\\\\),]|(?:%[0-9a-fA-F][0-9a-fA-F]))+'\n",
    "    )\n",
    "    urls = re.findall(url_pattern, message)\n",
    "    return urls"
   ],
   "metadata": {
    "collapsed": false,
    "ExecuteTime": {
     "end_time": "2024-02-07T04:27:21.440352Z",
     "start_time": "2024-02-07T04:27:21.433655Z"
    }
   },
   "id": "2b4eeb6acf9cb6db",
   "execution_count": 7
  },
  {
   "cell_type": "code",
   "outputs": [],
   "source": [
    "from llama_index.readers import TrafilaturaWebReader\n",
    "\n",
    "\n",
    "def discuss_with_live_indexing(ssa, message):\n",
    "    urls = extract_urls(message)\n",
    "    if urls:\n",
    "        documents = TrafilaturaWebReader().load_data(urls)\n",
    "        for doc in documents:\n",
    "            doc.metadata = {\n",
    "                'filename': urls[0],\n",
    "            }\n",
    "            ssa._rag_backend.add_feedback(doc)\n",
    "    \n",
    "    response = ssa.discuss(message)\n",
    "    return response"
   ],
   "metadata": {
    "collapsed": false,
    "ExecuteTime": {
     "end_time": "2024-02-07T04:27:23.054992Z",
     "start_time": "2024-02-07T04:27:23.047495Z"
    }
   },
   "id": "3d08feda6a2c9e61",
   "execution_count": 8
  },
  {
   "cell_type": "code",
   "outputs": [
    {
     "name": "stdout",
     "output_type": "stream",
     "text": [
      "Generated queries:\n",
      "1. Top performing artificial intelligence stocks in 2021\n",
      "2. How to invest in artificial intelligence stocks\n",
      "3. Artificial intelligence companies with strong growth potential\n"
     ]
    },
    {
     "name": "stderr",
     "output_type": "stream",
     "text": [
      "\u001B[32m2024-02-07 11:27:41.046\u001B[0m | \u001B[34m\u001B[1mDEBUG   \u001B[0m | \u001B[36mopenssa.core.ooda_rag.custom\u001B[0m:\u001B[36mquery\u001B[0m:\u001B[36m89\u001B[0m - \u001B[34m\u001B[1mresponse: The three hot artificial intelligence (AI) stocks to buy are:\n",
      "\n",
      "1. Alphabet (NASDAQ: GOOG) (NASDAQ: GOOGL)\n",
      "2. Taiwan Semiconductor Manufacturing Co. (NYSE: TSM)\n",
      "3. UiPath (NYSE: PATH)\u001B[0m\n"
     ]
    },
    {
     "data": {
      "text/plain": "{'content': 'The three hot artificial intelligence (AI) stocks to buy are:\\n\\n1. Alphabet (NASDAQ: GOOG) (NASDAQ: GOOGL)\\n2. Taiwan Semiconductor Manufacturing Co. (NYSE: TSM)\\n3. UiPath (NYSE: PATH)',\n 'citations': [{'type': 'html',\n   'pages': [],\n   'source': '3-hot-artificial-intelligence-ai-183800185.html'},\n  {'type': 'html',\n   'pages': [],\n   'source': '3-hot-artificial-intelligence-ai-183800185.html'},\n  {'type': 'pdf', 'pages': ['7'], 'source': 'goog-10-k-2023.pdf'},\n  {'type': 'pdf', 'pages': ['6'], 'source': 'goog-10-k-2023.pdf'},\n  {'type': 'pdf', 'pages': ['9'], 'source': 'goog-10-k-2023.pdf'},\n  {'type': 'pdf', 'pages': ['17'], 'source': 'goog-10-k-2023.pdf'},\n  {'type': 'pdf', 'pages': ['12'], 'source': 'goog-10-k-2023.pdf'},\n  {'type': 'pdf', 'pages': ['8'], 'source': 'goog-10-k-2023.pdf'}]}"
     },
     "execution_count": 9,
     "metadata": {},
     "output_type": "execute_result"
    }
   ],
   "source": [
    "discuss_with_live_indexing(ssm, 'List 3 Hot Artificial Intelligence (AI) Stocks to Buy https://finance.yahoo.com/news/3-hot-artificial-intelligence-ai-183800185.html')"
   ],
   "metadata": {
    "collapsed": false,
    "ExecuteTime": {
     "end_time": "2024-02-07T04:27:41.058891Z",
     "start_time": "2024-02-07T04:27:32.999497Z"
    }
   },
   "id": "ee6faa83018636f6",
   "execution_count": 9
  },
  {
   "cell_type": "code",
   "outputs": [],
   "source": [],
   "metadata": {
    "collapsed": false
   },
   "id": "69c6ad3208e9d345"
  }
 ],
 "metadata": {
  "kernelspec": {
   "display_name": "Python 3",
   "language": "python",
   "name": "python3"
  },
  "language_info": {
   "codemirror_mode": {
    "name": "ipython",
    "version": 2
   },
   "file_extension": ".py",
   "mimetype": "text/x-python",
   "name": "python",
   "nbconvert_exporter": "python",
   "pygments_lexer": "ipython2",
   "version": "2.7.6"
  }
 },
 "nbformat": 4,
 "nbformat_minor": 5
}
